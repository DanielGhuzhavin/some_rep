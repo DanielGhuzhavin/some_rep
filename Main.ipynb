{
 "cells": [
  {
   "cell_type": "markdown",
   "source": [
    "**ЛОГИКА РЕШЕНИЯ:**\n",
    "1. На входе принимаем количество клиентов,\n",
    "2. Создаем пустой словарь, в который будем складывать полученные номера групп и количество клиентов в них,\n",
    "3. Проходимся циклом со стартового значения (0, либо заданный ID) до финального (стартовое значение + количество клиентов),\n",
    "4. Добавляем значения в словарь. Если полученный номер группы есть в нашем словаре - добавляем к его значению единицу, если нет - создаем пару 'номер группы': 1\n",
    "\n",
    "*Важно: Можно уменьшить время работы функций на ~7%, если воспользоваться классом Counter*"
   ],
   "metadata": {
    "collapsed": false
   }
  },
  {
   "cell_type": "code",
   "execution_count": 1,
   "outputs": [],
   "source": [
    "def count_by_groups_from_zero(n_customers):\n",
    "    \"\"\"Calculate the count of clients in each group (Started from 0).\"\"\"\n",
    "    # Simple value check\n",
    "    if n_customers > 9999999:\n",
    "        print('Oops!... Please, check your value! It looks like it\\'s too many ')\n",
    "    else:\n",
    "        result = {}\n",
    "        last_id = n_customers + 1       # It looks clearer\n",
    "        # Get group numbers in the loop\n",
    "        for i in range(last_id):\n",
    "            group_number =  sum(map(int, str(i)))\n",
    "            # And here we create or add 1 value to our group counter in result dict\n",
    "            if group_number in result:\n",
    "                result[group_number] += 1\n",
    "            else:\n",
    "                result[group_number] = 1\n",
    "        return result"
   ],
   "metadata": {
    "collapsed": false
   }
  },
  {
   "cell_type": "code",
   "execution_count": 2,
   "outputs": [],
   "source": [
    "def count_by_groups_from_given_id(n_customers, n_first_id):\n",
    "    \"\"\"Calculate the count of clients in each group (Started from given first_id).\"\"\"\n",
    "    if n_customers + n_first_id > 9999999:\n",
    "        print('Oops!... Please, check your values! It looks like it\\'s too many')\n",
    "    else:\n",
    "        result = {}\n",
    "        last_id = n_first_id + n_customers + 1      # It looks clearer\n",
    "        # Get group numbers in the loop\n",
    "        for i in range(n_first_id, last_id):\n",
    "            group_number =  sum(map(int, str(i)))\n",
    "            # And here we create or add 1 value to our group counter in result dict\n",
    "            if group_number in result:\n",
    "                result[group_number] += 1\n",
    "            else:\n",
    "                result[group_number] = 1\n",
    "        return result"
   ],
   "metadata": {
    "collapsed": false
   }
  },
  {
   "cell_type": "markdown",
   "source": [
    "**Проверим, что мы получили**"
   ],
   "metadata": {
    "collapsed": false
   }
  },
  {
   "cell_type": "code",
   "execution_count": 3,
   "outputs": [],
   "source": [
    "sample_one = count_by_groups_from_zero(7485289)\n",
    "sample_two = count_by_groups_from_given_id(6485289, 1000000)"
   ],
   "metadata": {
    "collapsed": false
   }
  },
  {
   "cell_type": "markdown",
   "source": [
    "Завернем значения получившихся словарей ( == количество клиентов в группе) в серию и посмотрим гистограмму."
   ],
   "metadata": {
    "collapsed": false
   }
  },
  {
   "cell_type": "code",
   "execution_count": 10,
   "outputs": [],
   "source": [
    "import pandas as pd\n",
    "sample_one_serial = pd.Series(sample_one.values())\n",
    "sample_two_serial = pd.Series(sample_two.values())"
   ],
   "metadata": {
    "collapsed": false
   }
  },
  {
   "cell_type": "code",
   "execution_count": 11,
   "outputs": [
    {
     "data": {
      "text/plain": "<AxesSubplot:>"
     },
     "execution_count": 11,
     "metadata": {},
     "output_type": "execute_result"
    },
    {
     "data": {
      "text/plain": "<Figure size 432x288 with 1 Axes>",
      "image/png": "[encoded data removed]"
     },
     "metadata": {},
     "output_type": "display_data"
    }
   ],
   "source": [
    "sample_one_serial.hist()"
   ],
   "metadata": {
    "collapsed": false
   }
  },
  {
   "cell_type": "code",
   "execution_count": 12,
   "outputs": [
    {
     "data": {
      "text/plain": "<AxesSubplot:>"
     },
     "execution_count": 12,
     "metadata": {},
     "output_type": "execute_result"
    },
    {
     "data": {
      "text/plain": "<Figure size 432x288 with 1 Axes>",
      "image/png": "[encoded data removed]"
     },
     "metadata": {},
     "output_type": "display_data"
    }
   ],
   "source": [
    "sample_two_serial.hist()"
   ],
   "metadata": {
    "collapsed": false
   }
  },
  {
   "cell_type": "markdown",
   "source": [
    "**Выявленные проблемы:**\n",
    "В первой функии мы получаем группу \"0\", в которую вошло лишь одно значение.\n",
    "Также если мы посмотрим гистограммы значений наших словарей, то увидим, что количество клиентов в группе распределенно с большим перекосом к оси Y.\n",
    "\n",
    "**ВЫВОДЫ:**\n",
    "Следует пересмотреть способы разделения клиентов на группы, с целью выравнивания количества клиентов в каждой группе."
   ],
   "metadata": {
    "collapsed": false
   }
  },
  {
   "cell_type": "markdown",
   "source": [
    "Спасибо за задание. Было интересно, хоть и маловато :("
   ],
   "metadata": {
    "collapsed": false
   }
  }
 ],
 "metadata": {
  "kernelspec": {
   "display_name": "Python 3",
   "language": "python",
   "name": "python3"
  },
  "language_info": {
   "codemirror_mode": {
    "name": "ipython",
    "version": 2
   },
   "file_extension": ".py",
   "mimetype": "text/x-python",
   "name": "python",
   "nbconvert_exporter": "python",
   "pygments_lexer": "ipython2",
   "version": "2.7.6"
  }
 },
 "nbformat": 4,
 "nbformat_minor": 0
}
